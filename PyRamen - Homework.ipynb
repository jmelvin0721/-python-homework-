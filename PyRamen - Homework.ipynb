{
 "cells": [
  {
   "cell_type": "code",
   "execution_count": 1,
   "id": "afa48be6-7931-417e-abd2-af63560a5f6e",
   "metadata": {},
   "outputs": [],
   "source": [
    "import pandas as pd\n",
    "from pathlib import Path\n",
    "%matplotlib inline"
   ]
  },
  {
   "cell_type": "code",
   "execution_count": 3,
   "id": "f1ac6f7b-0d85-4f66-8e74-076301298ce3",
   "metadata": {},
   "outputs": [],
   "source": []
  },
  {
   "cell_type": "code",
   "execution_count": 27,
   "id": "a7ea3a5f-eb0c-4335-b9ac-678ee200ef5b",
   "metadata": {},
   "outputs": [],
   "source": [
    "sales_filepath = Path('Resources\\sales_data.csv')\n",
    "menu_filepath = Path('Resources\\menu_data.csv') "
   ]
  },
  {
   "cell_type": "code",
   "execution_count": 5,
   "id": "f74fd488-21b4-4c20-a300-cab9c48d367e",
   "metadata": {},
   "outputs": [],
   "source": [
    "menu = []\n",
    "sales = []\n",
    "report = {}\n",
    "row_count = 0"
   ]
  },
  {
   "cell_type": "code",
   "execution_count": 26,
   "id": "380eb150-5b11-4a7f-af13-93078b20b5bf",
   "metadata": {},
   "outputs": [
    {
     "ename": "NameError",
     "evalue": "name 'sales_data' is not defined",
     "output_type": "error",
     "traceback": [
      "\u001b[1;31m---------------------------------------------------------------------------\u001b[0m",
      "\u001b[1;31mNameError\u001b[0m                                 Traceback (most recent call last)",
      "\u001b[1;32m<ipython-input-26-6edce0031f3c>\u001b[0m in \u001b[0;36m<module>\u001b[1;34m\u001b[0m\n\u001b[1;32m----> 1\u001b[1;33m \u001b[1;32mwith\u001b[0m \u001b[0mopen\u001b[0m\u001b[1;33m(\u001b[0m\u001b[0msales_data\u001b[0m\u001b[1;33m.\u001b[0m\u001b[0mcsv\u001b[0m\u001b[1;33m,\u001b[0m \u001b[1;34m'r'\u001b[0m\u001b[1;33m)\u001b[0m \u001b[1;32mas\u001b[0m \u001b[0mcsvfile\u001b[0m\u001b[1;33m:\u001b[0m\u001b[1;33m\u001b[0m\u001b[1;33m\u001b[0m\u001b[0m\n\u001b[0m\u001b[0;32m      2\u001b[0m     \u001b[1;31m# print(csvfile)\u001b[0m\u001b[1;33m\u001b[0m\u001b[1;33m\u001b[0m\u001b[1;33m\u001b[0m\u001b[0m\n\u001b[0;32m      3\u001b[0m \u001b[1;33m\u001b[0m\u001b[0m\n\u001b[0;32m      4\u001b[0m     \u001b[0mcsv_reader\u001b[0m \u001b[1;33m=\u001b[0m \u001b[0mcsv\u001b[0m\u001b[1;33m.\u001b[0m\u001b[0mreader\u001b[0m\u001b[1;33m(\u001b[0m\u001b[0mcsvfile\u001b[0m\u001b[1;33m,\u001b[0m \u001b[0mdelimiter\u001b[0m \u001b[1;33m=\u001b[0m \u001b[1;34m','\u001b[0m\u001b[1;33m)\u001b[0m\u001b[1;33m\u001b[0m\u001b[1;33m\u001b[0m\u001b[0m\n\u001b[0;32m      5\u001b[0m     \u001b[0mheader\u001b[0m \u001b[1;33m=\u001b[0m \u001b[0mnext\u001b[0m\u001b[1;33m(\u001b[0m\u001b[0mcsv_reader\u001b[0m\u001b[1;33m)\u001b[0m\u001b[1;33m\u001b[0m\u001b[1;33m\u001b[0m\u001b[0m\n",
      "\u001b[1;31mNameError\u001b[0m: name 'sales_data' is not defined"
     ]
    }
   ],
   "source": [
    "with open(sales_data.csv, 'r') as csvfile:\n",
    "    # print(csvfile)\n",
    "    \n",
    "    csv_reader = csv.reader(csvfile, delimiter = ',')\n",
    "    header = next(csv_reader)"
   ]
  },
  {
   "cell_type": "code",
   "execution_count": 25,
   "id": "8240cb01-ff44-47f6-844e-0f7bc2b923f6",
   "metadata": {},
   "outputs": [
    {
     "ename": "FileNotFoundError",
     "evalue": "[Errno 2] No such file or directory: 'menu_data.csv'",
     "output_type": "error",
     "traceback": [
      "\u001b[1;31m---------------------------------------------------------------------------\u001b[0m",
      "\u001b[1;31mFileNotFoundError\u001b[0m                         Traceback (most recent call last)",
      "\u001b[1;32m<ipython-input-25-545cfed4222e>\u001b[0m in \u001b[0;36m<module>\u001b[1;34m\u001b[0m\n\u001b[1;32m----> 1\u001b[1;33m \u001b[1;32mwith\u001b[0m \u001b[0mopen\u001b[0m\u001b[1;33m(\u001b[0m\u001b[1;34m\"menu_data.csv\"\u001b[0m\u001b[1;33m,\u001b[0m \u001b[1;34m'r'\u001b[0m\u001b[1;33m)\u001b[0m \u001b[1;32mas\u001b[0m \u001b[0mcsvfile\u001b[0m\u001b[1;33m:\u001b[0m\u001b[1;33m\u001b[0m\u001b[1;33m\u001b[0m\u001b[0m\n\u001b[0m\u001b[0;32m      2\u001b[0m     \u001b[1;31m# print(csvfile)\u001b[0m\u001b[1;33m\u001b[0m\u001b[1;33m\u001b[0m\u001b[1;33m\u001b[0m\u001b[0m\n\u001b[0;32m      3\u001b[0m \u001b[1;33m\u001b[0m\u001b[0m\n\u001b[0;32m      4\u001b[0m     \u001b[0mcsv_reader\u001b[0m \u001b[1;33m=\u001b[0m \u001b[0mcsv\u001b[0m\u001b[1;33m.\u001b[0m\u001b[0mreader\u001b[0m\u001b[1;33m(\u001b[0m\u001b[0mcsvfile\u001b[0m\u001b[1;33m,\u001b[0m \u001b[0mdelimiter\u001b[0m \u001b[1;33m=\u001b[0m \u001b[1;34m','\u001b[0m\u001b[1;33m)\u001b[0m\u001b[1;33m\u001b[0m\u001b[1;33m\u001b[0m\u001b[0m\n\u001b[0;32m      5\u001b[0m     \u001b[0mheader\u001b[0m \u001b[1;33m=\u001b[0m \u001b[0mnext\u001b[0m\u001b[1;33m(\u001b[0m\u001b[0mcsv_reader\u001b[0m\u001b[1;33m)\u001b[0m\u001b[1;33m\u001b[0m\u001b[1;33m\u001b[0m\u001b[0m\n",
      "\u001b[1;31mFileNotFoundError\u001b[0m: [Errno 2] No such file or directory: 'menu_data.csv'"
     ]
    }
   ],
   "source": [
    "with open(\"menu_data.csv\", 'r') as csvfile:\n",
    "    # print(csvfile)\n",
    "    \n",
    "    csv_reader = csv.reader(csvfile, delimiter = ',')\n",
    "    header = next(csv_reader)"
   ]
  },
  {
   "cell_type": "code",
   "execution_count": 15,
   "id": "3853aa54-3c30-4d02-a6b5-6b30741cfa31",
   "metadata": {},
   "outputs": [
    {
     "ename": "NameError",
     "evalue": "name 'csv_reader' is not defined",
     "output_type": "error",
     "traceback": [
      "\u001b[1;31m---------------------------------------------------------------------------\u001b[0m",
      "\u001b[1;31mNameError\u001b[0m                                 Traceback (most recent call last)",
      "\u001b[1;32m<ipython-input-15-70df57ab349e>\u001b[0m in \u001b[0;36m<module>\u001b[1;34m\u001b[0m\n\u001b[1;32m----> 1\u001b[1;33m \u001b[1;32mfor\u001b[0m \u001b[0mrow\u001b[0m \u001b[1;32min\u001b[0m \u001b[0mcsv_reader\u001b[0m\u001b[1;33m:\u001b[0m\u001b[1;33m\u001b[0m\u001b[1;33m\u001b[0m\u001b[0m\n\u001b[0m\u001b[0;32m      2\u001b[0m     \u001b[0msales\u001b[0m\u001b[1;33m.\u001b[0m\u001b[0mappend\u001b[0m\u001b[1;33m(\u001b[0m\u001b[0mrow\u001b[0m\u001b[1;33m)\u001b[0m\u001b[1;33m\u001b[0m\u001b[1;33m\u001b[0m\u001b[0m\n",
      "\u001b[1;31mNameError\u001b[0m: name 'csv_reader' is not defined"
     ]
    }
   ],
   "source": [
    "    for row in csv_reader:\n",
    "        sales.append(row)"
   ]
  },
  {
   "cell_type": "code",
   "execution_count": 16,
   "id": "54be996e-7615-42b1-ba6c-1d5ffa13af4c",
   "metadata": {},
   "outputs": [],
   "source": [
    "for sales_row in sales:\n",
    "    \n",
    "    sales_item = sales_row[4] \n",
    "    quantity = sales_row[3]\n",
    "\n",
    "    if sales_item not in report:\n",
    "        report[sales_item] = {\"01-count\": 0, \"02-revenue\": 0, \"03-cogs\": 0, \"04-profit\": 0}\n",
    "    else:\n",
    "        continue"
   ]
  },
  {
   "cell_type": "code",
   "execution_count": 17,
   "id": "ab78b09c-74db-4ee0-af96-1066cbace348",
   "metadata": {},
   "outputs": [],
   "source": [
    "for sales_row in sales:\n",
    "    \n",
    "    sales_item = sales_row[4]\n",
    "    quantity = sales_row[3]\n",
    "    \n",
    "    if sales_item in report:\n",
    "        report[sales_item][\"01-count\"] += int(quantity)"
   ]
  },
  {
   "cell_type": "code",
   "execution_count": 18,
   "id": "e6af7bc8-0acb-4acb-8b51-f3e4b282beb0",
   "metadata": {},
   "outputs": [],
   "source": [
    "for sales_row in sales:\n",
    "    \n",
    "    sales_item = sales_row[4]\n",
    "    quantity = sales_row[3]\n",
    "    \n",
    "    for menu_row in menu:\n",
    "        menu_item = menu_row[0]\n",
    "        menu_price = menu_row[3]\n",
    "        menu_cost = menu_row[4]\n",
    "        \n",
    "        if sales_item == menu_item:\n",
    "            report[menu_item][\"02-revenue\"] += (int(menu_price) * int(quantity))\n",
    "            report[menu_item][\"03-cogs\"] += (int(menu_cost) * int(quantity))\n",
    "        elif sales_item != menu_item:\n",
    "            continue\n"
   ]
  },
  {
   "cell_type": "code",
   "execution_count": 19,
   "id": "465dd688-f598-4201-94c3-da602cbbe094",
   "metadata": {},
   "outputs": [],
   "source": [
    "for item, valuedict in report.items():\n",
    "     \n",
    "    for key in valuedict:\n",
    "        \n",
    "        cogs = report[item][\"03-cogs\"]\n",
    "        revenue = report[item][\"02-revenue\"]\n",
    "        \n",
    "        if key == \"04-profit\":\n",
    "            report[item][key] = revenue - cogs\n",
    "        else:\n",
    "            continue "
   ]
  },
  {
   "cell_type": "code",
   "execution_count": 28,
   "id": "864b0bdd-db7f-4800-a01a-c19aea9249cf",
   "metadata": {},
   "outputs": [],
   "source": [
    "output_path = Path(\"PyRamen.txt\")\n",
    "\n",
    "with open(output_path, 'w') as file:\n",
    "    file.write(\"This is the financial report for PyRamen.\\n\")\n",
    "    for key in report:\n",
    "        file.write(f\"{key} {report[key]} \\n\")"
   ]
  },
  {
   "cell_type": "code",
   "execution_count": null,
   "id": "f468431a-c411-4620-bc52-f0d86888df58",
   "metadata": {},
   "outputs": [],
   "source": []
  }
 ],
 "metadata": {
  "kernelspec": {
   "display_name": "Python 3",
   "language": "python",
   "name": "python3"
  },
  "language_info": {
   "codemirror_mode": {
    "name": "ipython",
    "version": 3
   },
   "file_extension": ".py",
   "mimetype": "text/x-python",
   "name": "python",
   "nbconvert_exporter": "python",
   "pygments_lexer": "ipython3",
   "version": "3.8.8"
  }
 },
 "nbformat": 4,
 "nbformat_minor": 5
}
