{
 "cells": [
  {
   "cell_type": "code",
   "execution_count": null,
   "id": "13c43c5e-66e1-4119-b72c-0e61c74d975f",
   "metadata": {},
   "outputs": [],
   "source": [
    "import pandas as pd\n",
    "from pathlib import Path\n",
    "%matplotlib inline"
   ]
  },
  {
   "cell_type": "code",
   "execution_count": null,
   "id": "f256d415-9376-4912-b5bf-dfd187eef4bb",
   "metadata": {},
   "outputs": [],
   "source": [
    "df = \"budget_data.csv\""
   ]
  },
  {
   "cell_type": "code",
   "execution_count": null,
   "id": "b40b8f51-30df-4ccd-ad14-e525efb71db5",
   "metadata": {},
   "outputs": [],
   "source": [
    "#create variables for calculations\n",
    "month_counter = 0\n",
    "sum_revenue = 0\n",
    "sum_revenue_change = 0"
   ]
  },
  {
   "cell_type": "code",
   "execution_count": null,
   "id": "46a4b01c-4c31-47d8-9ea4-775924a0d1ac",
   "metadata": {},
   "outputs": [],
   "source": [
    "filename = input(\"budget_data.csv\")\n",
    "month_count = 0\n",
    "total_revenue = 0\n",
    "this_month_revenue = 0\n",
    "last_month_revenue = 0\n",
    "revenue_change = 0\n",
    "revenue_changes = []\n",
    "months = []"
   ]
  },
  {
   "cell_type": "code",
   "execution_count": null,
   "id": "70ed2e93-fdc5-40bc-95ef-8ee653cc1270",
   "metadata": {},
   "outputs": [],
   "source": [
    "# Loop through files\n",
    "for files in budget_data:\n",
    "    # Get CSV\n",
    "    budget_dataCSV = os.path.join(\".../Resource\", 'budget_data_' + files + '.csv')"
   ]
  },
  {
   "cell_type": "code",
   "execution_count": null,
   "id": "432617a6-b532-4f40-bcec-69dffd4211be",
   "metadata": {},
   "outputs": [],
   "source": [
    "    # Open current CSV\n",
    "    with open(budget_dataCSV) as csvFile:\n",
    "\n",
    "        csvReader = csv.reader(csvFile, delimiter=',')\n",
    "        \n",
    "         next(csvreader)"
   ]
  },
  {
   "cell_type": "code",
   "execution_count": null,
   "id": "73c2c771-e1cf-4681-86ad-65463fb12fac",
   "metadata": {},
   "outputs": [],
   "source": [
    " # gather monthly changes in revenue\n",
    "    for row in csvreader:\n",
    "        month_count = month_count + 1\n",
    "        months.append(row[0])\n",
    "        this_month_revenue = int(row[1])\n",
    "        total_revenue = total_revenue + this_month_revenue\n",
    "        if month_count > 1:\n",
    "            revenue_change = this_month_revenue - last_month_revenue\n",
    "            revenue_changes.append(revenue_change)\n",
    "        last_month_revenue = this_month_revenue"
   ]
  },
  {
   "cell_type": "code",
   "execution_count": null,
   "id": "b6ba9077-e20b-4acd-9870-c6de3b1a2387",
   "metadata": {},
   "outputs": [],
   "source": [
    "# analyze the month by month results\n",
    "sum_rev_changes = sum(revenue_changes)\n",
    "average_change = sum_rev_changes / (month_count - 1)\n",
    "max_change = max(revenue_changes)\n",
    "min_change = min(revenue_changes)\n",
    "max_month_index = revenue_changes.index(max_change)\n",
    "min_month_index = revenue_changes.index(min_change)\n",
    "max_month = months[max_month_index]\n",
    "min_month = months[min_month_index]"
   ]
  },
  {
   "cell_type": "code",
   "execution_count": null,
   "id": "0eae318f-890c-431a-a44a-baa9df2487d2",
   "metadata": {},
   "outputs": [],
   "source": [
    "# print summary to user\n",
    "print(\"Financial Analysis\")\n",
    "print(\"----------------------------------------\")\n",
    "print(f\"Total Months: {month_count}\")\n",
    "print(f\"Total Revenue: ${total_revenue}\")\n",
    "print(f\"Average Revenue Change: ${average_change}\")\n",
    "print(f\"Greatest Increase in Revenue: {max_month} (${max_change})\")\n",
    "print(f\"Greatest Decrease in Revenue: {min_month} (${min_change})\")"
   ]
  },
  {
   "cell_type": "code",
   "execution_count": null,
   "id": "b9b435b8-7fa1-4b2c-a406-e1652785f2bc",
   "metadata": {},
   "outputs": [],
   "source": [
    "#The total number of months included in the datasets one and two\n",
    "months1 = df[\"Date\"].count()\n",
    "\n",
    "print (months)"
   ]
  },
  {
   "cell_type": "code",
   "execution_count": null,
   "id": "90e5e053-c0db-434d-9c21-5986a65a484b",
   "metadata": {},
   "outputs": [],
   "source": [
    "#The total amount of revenue gained over both periods one and two\n",
    "total_rev1 = df[\"Proft/loss\"].sum()\n",
    "print (total_rev1)\n"
   ]
  },
  {
   "cell_type": "code",
   "execution_count": null,
   "id": "b3039886-96b7-4946-97eb-e8c2c772ae43",
   "metadata": {},
   "outputs": [],
   "source": [
    "#The average change in revenue between months over both periods one and two\n",
    "avg_rev = df[\"Profit/loss\"].mean()\n",
    "print(avg_rev)\n"
   ]
  },
  {
   "cell_type": "code",
   "execution_count": null,
   "id": "427bd7f8-0e83-4461-8829-7973fb8add2d",
   "metadata": {},
   "outputs": [],
   "source": [
    "#The greatest decrease in revenue (date and amount) over tboth periods one and two\n",
    "max_rev = df1[\"Profit/loss\"].max()\n",
    "\n",
    "print(max_rev)"
   ]
  },
  {
   "cell_type": "code",
   "execution_count": null,
   "id": "1977440b-4ef7-4e79-960a-f1df0f060158",
   "metadata": {},
   "outputs": [],
   "source": [
    "#locates the date that corresponds to the max revenue for budget one and two respectively\n",
    "date = df.loc[df1[\"Profit/loss\"] == max_rev, \"Date\"]\n",
    "max_date = date.iloc[0]\n",
    "print(max_date)\n",
    "\n"
   ]
  },
  {
   "cell_type": "code",
   "execution_count": null,
   "id": "59d56950-ccab-4b45-bbf7-9de8630e4f3c",
   "metadata": {},
   "outputs": [],
   "source": [
    "#The greatest increase in revenue (date and amount) over both periods one and two\n",
    "min_rev1 = df1[\"Profit/loss\"].min()\n",
    "\n",
    "print(min_rev)\n"
   ]
  },
  {
   "cell_type": "code",
   "execution_count": null,
   "id": "6f19d3ea-c47b-4d6c-b4d0-4d2bc1b4fc09",
   "metadata": {},
   "outputs": [],
   "source": [
    "#locates the date that corresponds to the min revenue for budget one and two respectively\n",
    "min_date = df.loc[df1[\"Profit/loss\"] == min_rev, \"Date\"]\n",
    "min_date_loc = date1.iloc[0]\n",
    "print(min_date1_loc)\n",
    "\n"
   ]
  },
  {
   "cell_type": "code",
   "execution_count": null,
   "id": "ae86cc42-9acf-4bc8-8095-d96d8b28a9aa",
   "metadata": {},
   "outputs": [],
   "source": [
    "#print statements in terminal\n",
    "print(\"Financial Analysis for Data Set 1\\n ---------------------------- \\n\")\n",
    "print(f\" Total Months: {months1}\\n Total Revenue: {total_rev1}\\n Average Revenue Change: {avg_rev1}\\n Greatest Increase in Revenue: {max_date1} {max_rev1}\\n Greatest Decrease in Revenue: {min_date1_loc} {min_rev1}\")\n",
    "\n",
    "print(\" \")\n",
    "print(\" \")\n",
    "\n",
    "print(\"Financial Analysis for Data Set 2\\n ---------------------------- \\n\")\n",
    "print(f\" Total Months: {months2}\\n Total Revenue: {total_rev2}\\n Average Revenue Change: {avg_rev2}\\n Greatest Increase in Revenue: {max_date2} {max_rev2}\\n Greatest Decrease in Revenue: {min_date2_loc} {min_rev2}\")"
   ]
  },
  {
   "cell_type": "code",
   "execution_count": null,
   "id": "a675a4b8-2980-4a0e-992f-646c3f4e4948",
   "metadata": {},
   "outputs": [],
   "source": [
    "#print statements in seperate text file within the same directory\n",
    "analysis = sys.stdout\n",
    "sys.stdout = open('financial-analysis.txt', 'w')\n",
    "print(\"Financial Analysis for Data Set 1\\n ---------------------------- \\n\")\n",
    "print(f\" Total Months: {months1}\\n Total Revenue: {total_rev1}\\n Average Revenue Change: {avg_rev1}\\n Greatest Increase in Revenue: {max_date1} {max_rev1}\\n Greatest Decrease in Revenue: {min_date1_loc} {min_rev1}\")\n",
    "\n",
    "print(\" \")\n",
    "print(\" \")\n",
    "\n",
    "print(\"Financial Analysis for Data Set 2\\n ---------------------------- \\n\")\n",
    "print(f\" Total Months: {months2}\\n Total Revenue: {total_rev2}\\n Average Revenue Change: {avg_rev2}\\n Greatest Increase in Revenue: {max_date2} {max_rev2}\\n Greatest Decrease in Revenue: {min_date2_loc} {min_rev2}\")\n",
    "sys.stdout.close() \n",
    "sys.stdout = analysis "
   ]
  },
  {
   "cell_type": "code",
   "execution_count": null,
   "id": "ffe51fd4-80ac-4785-829e-5a1ee33bd1f3",
   "metadata": {},
   "outputs": [],
   "source": [
    "# save summary to txt\n",
    "save_file = filename.strip(\".csv\") + \"_results.txt\"\n",
    "filepath = os.path.join(\".\", save_file)\n",
    "with open(filepath,'w') as text:\n",
    "    text.write(\"Financial Analysis\" + \"\\n\")\n",
    "    text.write(\"----------------------------------------\" + \"\\n\")\n",
    "    text.write(f\"Total Months: {month_count}\" + \"\\n\")\n",
    "    text.write(f\"Total Revenue: ${total_revenue}\" + \"\\n\")\n",
    "    text.write(f\"Average Revenue Change: ${average_change}\" + \"\\n\")\n",
    "    text.write(f\"Greatest Increase in Revenue: {max_month} (${max_change})\" + \"\\n\")\n",
    "    text.write(f\"Greatest Decrease in Revenue: {min_month} (${min_change})\" + \"\\n\")"
   ]
  },
  {
   "cell_type": "code",
   "execution_count": null,
   "id": "ea3c262b-15ad-484e-9dc4-33135c23f4f7",
   "metadata": {},
   "outputs": [],
   "source": []
  }
 ],
 "metadata": {
  "kernelspec": {
   "display_name": "Python 3",
   "language": "python",
   "name": "python3"
  },
  "language_info": {
   "codemirror_mode": {
    "name": "ipython",
    "version": 3
   },
   "file_extension": ".py",
   "mimetype": "text/x-python",
   "name": "python",
   "nbconvert_exporter": "python",
   "pygments_lexer": "ipython3",
   "version": "3.8.8"
  }
 },
 "nbformat": 4,
 "nbformat_minor": 5
}
